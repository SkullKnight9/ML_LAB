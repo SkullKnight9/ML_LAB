{
 "cells": [
  {
   "cell_type": "code",
   "execution_count": 120,
   "id": "de89d784",
   "metadata": {},
   "outputs": [],
   "source": [
    "import matplotlib.pyplot as plt\n",
    "import pandas as pd\n",
    "import numpy as np"
   ]
  },
  {
   "cell_type": "code",
   "execution_count": 121,
   "id": "66924767",
   "metadata": {},
   "outputs": [],
   "source": [
    "df = pd.read_csv('test.csv')"
   ]
  },
  {
   "cell_type": "code",
   "execution_count": 122,
   "id": "24a45a22",
   "metadata": {},
   "outputs": [
    {
     "data": {
      "text/html": [
       "<div>\n",
       "<style scoped>\n",
       "    .dataframe tbody tr th:only-of-type {\n",
       "        vertical-align: middle;\n",
       "    }\n",
       "\n",
       "    .dataframe tbody tr th {\n",
       "        vertical-align: top;\n",
       "    }\n",
       "\n",
       "    .dataframe thead th {\n",
       "        text-align: right;\n",
       "    }\n",
       "</style>\n",
       "<table border=\"1\" class=\"dataframe\">\n",
       "  <thead>\n",
       "    <tr style=\"text-align: right;\">\n",
       "      <th></th>\n",
       "      <th>Id7</th>\n",
       "      <th>HomeOwner</th>\n",
       "      <th>Status</th>\n",
       "      <th>Income</th>\n",
       "      <th>Defaulted</th>\n",
       "    </tr>\n",
       "  </thead>\n",
       "  <tbody>\n",
       "    <tr>\n",
       "      <th>0</th>\n",
       "      <td>1</td>\n",
       "      <td>Yes</td>\n",
       "      <td>Employed</td>\n",
       "      <td>High</td>\n",
       "      <td>No</td>\n",
       "    </tr>\n",
       "    <tr>\n",
       "      <th>1</th>\n",
       "      <td>2</td>\n",
       "      <td>No</td>\n",
       "      <td>Buisness</td>\n",
       "      <td>Average</td>\n",
       "      <td>No</td>\n",
       "    </tr>\n",
       "    <tr>\n",
       "      <th>2</th>\n",
       "      <td>3</td>\n",
       "      <td>No</td>\n",
       "      <td>Employed</td>\n",
       "      <td>Low</td>\n",
       "      <td>No</td>\n",
       "    </tr>\n",
       "    <tr>\n",
       "      <th>3</th>\n",
       "      <td>4</td>\n",
       "      <td>Yes</td>\n",
       "      <td>Buisness</td>\n",
       "      <td>High</td>\n",
       "      <td>No</td>\n",
       "    </tr>\n",
       "    <tr>\n",
       "      <th>4</th>\n",
       "      <td>5</td>\n",
       "      <td>No</td>\n",
       "      <td>Unemployed</td>\n",
       "      <td>Average</td>\n",
       "      <td>Yes</td>\n",
       "    </tr>\n",
       "    <tr>\n",
       "      <th>5</th>\n",
       "      <td>6</td>\n",
       "      <td>No</td>\n",
       "      <td>Buisness</td>\n",
       "      <td>Low</td>\n",
       "      <td>No</td>\n",
       "    </tr>\n",
       "    <tr>\n",
       "      <th>6</th>\n",
       "      <td>7</td>\n",
       "      <td>Yes</td>\n",
       "      <td>Unemployed</td>\n",
       "      <td>High</td>\n",
       "      <td>No</td>\n",
       "    </tr>\n",
       "    <tr>\n",
       "      <th>7</th>\n",
       "      <td>8</td>\n",
       "      <td>No</td>\n",
       "      <td>Employed</td>\n",
       "      <td>Average</td>\n",
       "      <td>Yes</td>\n",
       "    </tr>\n",
       "    <tr>\n",
       "      <th>8</th>\n",
       "      <td>9</td>\n",
       "      <td>No</td>\n",
       "      <td>Buisness</td>\n",
       "      <td>Low</td>\n",
       "      <td>No</td>\n",
       "    </tr>\n",
       "    <tr>\n",
       "      <th>9</th>\n",
       "      <td>10</td>\n",
       "      <td>No</td>\n",
       "      <td>Employed</td>\n",
       "      <td>Average</td>\n",
       "      <td>Yes</td>\n",
       "    </tr>\n",
       "  </tbody>\n",
       "</table>\n",
       "</div>"
      ],
      "text/plain": [
       "   Id7 HomeOwner      Status   Income Defaulted\n",
       "0    1       Yes    Employed     High        No\n",
       "1    2        No    Buisness  Average        No\n",
       "2    3        No    Employed      Low        No\n",
       "3    4       Yes    Buisness     High        No\n",
       "4    5        No  Unemployed  Average       Yes\n",
       "5    6        No    Buisness      Low        No\n",
       "6    7       Yes  Unemployed     High        No\n",
       "7    8        No    Employed  Average       Yes\n",
       "8    9        No    Buisness      Low        No\n",
       "9   10        No    Employed  Average       Yes"
      ]
     },
     "execution_count": 122,
     "metadata": {},
     "output_type": "execute_result"
    }
   ],
   "source": [
    "df"
   ]
  },
  {
   "cell_type": "code",
   "execution_count": 123,
   "id": "5e7dfa53",
   "metadata": {},
   "outputs": [],
   "source": [
    "P_HomeOwner = 0.30\n",
    "P_NotHomeOwner = 0.70\n",
    "P_Employed = 0.40\n",
    "P_Buisness = 0.40\n",
    "P_Unemployed = 0.20\n",
    "P_High = 0.30\n",
    "P_Avg = 0.40\n",
    "P_Low = 0.30\n",
    "P_Defaulted = 0.20\n",
    "P_NotDefaulted = 0.80\n"
   ]
  },
  {
   "cell_type": "code",
   "execution_count": 124,
   "id": "a122cdda",
   "metadata": {},
   "outputs": [],
   "source": [
    "P_NotHomeOwner_Given_NotDefaulted = 0.57142\n",
    "P_High_Given_NotDefaulted = 0.428571\n",
    "n = 10\n",
    "P_J = 0\n",
    "P_H = 0\n",
    "P_I = 0\n",
    "P_JY = 0\n",
    "P_HY = 0\n",
    "P_IY = 0\n",
    "count = 0"
   ]
  },
  {
   "cell_type": "code",
   "execution_count": 125,
   "id": "d9a97553",
   "metadata": {},
   "outputs": [
    {
     "name": "stdout",
     "output_type": "stream",
     "text": [
      "0.5714285714285714\n"
     ]
    }
   ],
   "source": [
    "count = 0\n",
    "for i in range(n):\n",
    "    if(df['Defaulted'][i] == 'No') & (df['Status'][i] == 'Buisness'):\n",
    "         P_J += 1\n",
    " \n",
    "for i in range(n):\n",
    "     if(df['Defaulted'][i] == 'No'):\n",
    "                count += 1\n",
    "\n",
    "                \n",
    "P_Buisness_Given_NotDefaulted = P_J/count\n",
    "print(P_J/count)"
   ]
  },
  {
   "cell_type": "code",
   "execution_count": 126,
   "id": "39d1354f",
   "metadata": {},
   "outputs": [
    {
     "name": "stdout",
     "output_type": "stream",
     "text": [
      "0.5714285714285714\n"
     ]
    }
   ],
   "source": [
    "count = 0\n",
    "for i in range(n):\n",
    "    if(df['Defaulted'][i] == 'No') & (df['HomeOwner'][i] == 'No'):\n",
    "         P_H += 1\n",
    " \n",
    "for i in range(n):\n",
    "     if(df['Defaulted'][i] == 'No'):\n",
    "            count += 1\n",
    "\n",
    "                \n",
    "P_Buisness_Given_NotHomeOwner = P_H/count\n",
    "print(P_H/count)"
   ]
  },
  {
   "cell_type": "code",
   "execution_count": 127,
   "id": "a8275db6",
   "metadata": {},
   "outputs": [
    {
     "name": "stdout",
     "output_type": "stream",
     "text": [
      "0.42857142857142855\n"
     ]
    }
   ],
   "source": [
    "count = 0\n",
    "for i in range(n):\n",
    "    if(df['Defaulted'][i] == 'No') & (df['Income'][i] == 'High'):\n",
    "         P_I += 1\n",
    " \n",
    "for i in range(n):\n",
    "     if(df['Defaulted'][i] == 'No'):\n",
    "            count += 1\n",
    "\n",
    "                \n",
    "P_Buisness_Given_High = P_H/count\n",
    "print(P_I/count)"
   ]
  },
  {
   "cell_type": "code",
   "execution_count": 128,
   "id": "728db367",
   "metadata": {},
   "outputs": [
    {
     "name": "stdout",
     "output_type": "stream",
     "text": [
      "0.09795918367346937\n"
     ]
    }
   ],
   "source": [
    "#p(no|no,buisness,high)\n",
    "#p(no)*p(no|no)*p(buisness|no)*p(high|no))\n",
    "\n",
    "P_No = 0.7 * 0.42857142857142855 * 0.5714285714285714 * 0.5714285714285714\n",
    "\n",
    "print(P_No)"
   ]
  },
  {
   "cell_type": "code",
   "execution_count": null,
   "id": "2fc35ad0",
   "metadata": {},
   "outputs": [],
   "source": []
  },
  {
   "cell_type": "code",
   "execution_count": 129,
   "id": "fc7200ac",
   "metadata": {},
   "outputs": [
    {
     "name": "stdout",
     "output_type": "stream",
     "text": [
      "0.0\n"
     ]
    }
   ],
   "source": [
    "count = 0\n",
    "for i in range(n):\n",
    "    if(df['Defaulted'][i] == 'Yes') & (df['Status'][i] == 'Buisness'):\n",
    "         P_JY += 1\n",
    " \n",
    "for i in range(n):\n",
    "     if(df['Defaulted'][i] == 'Yes'):\n",
    "                count += 1\n",
    "\n",
    "                \n",
    "P_Buisness_Given_Defaulted = P_JY/count\n",
    "print(P_JY/count)"
   ]
  },
  {
   "cell_type": "code",
   "execution_count": 130,
   "id": "d5b4f24a",
   "metadata": {},
   "outputs": [
    {
     "name": "stdout",
     "output_type": "stream",
     "text": [
      "1.0\n"
     ]
    }
   ],
   "source": [
    "count = 0\n",
    "for i in range(n):\n",
    "    if(df['Defaulted'][i] == 'Yes') & (df['HomeOwner'][i] == 'No'):\n",
    "         P_HY += 1\n",
    " \n",
    "for i in range(n):\n",
    "     if(df['Defaulted'][i] == 'Yes'):\n",
    "                count += 1\n",
    "\n",
    "                \n",
    "P_Buisness_Given_Defaulted = P_JY/count\n",
    "print(P_HY/count)"
   ]
  },
  {
   "cell_type": "code",
   "execution_count": 131,
   "id": "4b98d8db",
   "metadata": {},
   "outputs": [
    {
     "name": "stdout",
     "output_type": "stream",
     "text": [
      "0.0\n"
     ]
    }
   ],
   "source": [
    "count = 0\n",
    "for i in range(n):\n",
    "    if(df['Defaulted'][i] == 'Yes') & (df['Income'][i] == 'High'):\n",
    "         P_IY += 1\n",
    " \n",
    "for i in range(n):\n",
    "     if(df['Defaulted'][i] == 'Yes'):\n",
    "                count += 1\n",
    "\n",
    "                \n",
    "P_Buisness_Given_Defaulted = P_JY/count\n",
    "print(P_IY/count)"
   ]
  },
  {
   "cell_type": "code",
   "execution_count": 136,
   "id": "f0c3a780",
   "metadata": {},
   "outputs": [],
   "source": [
    "P_Yes = 0.3 * 1.0 * 0.0 * 0.0"
   ]
  },
  {
   "cell_type": "code",
   "execution_count": 138,
   "id": "627ee32b",
   "metadata": {},
   "outputs": [
    {
     "name": "stdout",
     "output_type": "stream",
     "text": [
      "Classified as No\n"
     ]
    }
   ],
   "source": [
    "if(P_No > P_Yes):\n",
    "    print(\"Classified as No\")\n",
    "else:\n",
    "    print(\"Classified as Yes\")"
   ]
  },
  {
   "cell_type": "code",
   "execution_count": null,
   "id": "8cedf7fe",
   "metadata": {},
   "outputs": [],
   "source": []
  }
 ],
 "metadata": {
  "kernelspec": {
   "display_name": "Python 3 (ipykernel)",
   "language": "python",
   "name": "python3"
  },
  "language_info": {
   "codemirror_mode": {
    "name": "ipython",
    "version": 3
   },
   "file_extension": ".py",
   "mimetype": "text/x-python",
   "name": "python",
   "nbconvert_exporter": "python",
   "pygments_lexer": "ipython3",
   "version": "3.9.13"
  }
 },
 "nbformat": 4,
 "nbformat_minor": 5
}
